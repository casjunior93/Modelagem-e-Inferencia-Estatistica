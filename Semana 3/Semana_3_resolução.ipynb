{
  "nbformat": 4,
  "nbformat_minor": 0,
  "metadata": {
    "colab": {
      "name": "Semana 3 - resolução.ipynb",
      "provenance": [],
      "collapsed_sections": []
    },
    "kernelspec": {
      "name": "python3",
      "display_name": "Python 3"
    },
    "language_info": {
      "name": "python"
    }
  },
  "cells": [
    {
      "cell_type": "markdown",
      "source": [
        "# Atividade 1"
      ],
      "metadata": {
        "id": "eywuin2D3B_C"
      }
    },
    {
      "cell_type": "markdown",
      "source": [
        "Foi analisado um conjunto de dezoito dados x e y, que forneceram os seguintes resultados:"
      ],
      "metadata": {
        "id": "S-vRJ5MC3N2Y"
      }
    },
    {
      "cell_type": "code",
      "source": [
        "somatorio_xi = 152.70\n",
        "somatorio_yi = 671.00\n",
        "somatorio_xiyi = 5380.84\n",
        "somatorio_xi2 = 1312.6764\n",
        "somatorio_yi2 = 31231.00\n",
        "media_x = 8.4833\n",
        "media_y = 37.2778\n",
        "n = 18"
      ],
      "metadata": {
        "id": "r24BzxxZ3ElF"
      },
      "execution_count": null,
      "outputs": []
    },
    {
      "cell_type": "markdown",
      "source": [
        "Calcule o intervalo de previsão de 95% para x=9."
      ],
      "metadata": {
        "id": "Fg0oZAh938q_"
      }
    },
    {
      "cell_type": "code",
      "source": [
        "x = 9"
      ],
      "metadata": {
        "id": "vSx4GTF1Dnp4"
      },
      "execution_count": null,
      "outputs": []
    },
    {
      "cell_type": "markdown",
      "source": [
        "## Resolução"
      ],
      "metadata": {
        "id": "GC7rYZg64Bs5"
      }
    },
    {
      "cell_type": "markdown",
      "source": [
        "Encontrando sxy, sxx e syy"
      ],
      "metadata": {
        "id": "J7sd2Sji4GyQ"
      }
    },
    {
      "cell_type": "code",
      "source": [
        "sxy = somatorio_xiyi - somatorio_xi * somatorio_yi / n\n",
        "sxx = somatorio_xi2 - pow(somatorio_xi,2) / n\n",
        "syy = somatorio_yi2 - pow(somatorio_yi,2) / n\n",
        "\n",
        "print(f'sxy: {sxy}')\n",
        "print(f'sxx: {sxx}')\n",
        "print(f'syy: {syy}')"
      ],
      "metadata": {
        "colab": {
          "base_uri": "https://localhost:8080/"
        },
        "id": "qjPIbT7D4C-x",
        "outputId": "db4c263c-3eb1-4154-9ae4-11cd2d79441b"
      },
      "execution_count": null,
      "outputs": [
        {
          "output_type": "stream",
          "name": "stdout",
          "text": [
            "sxy: -311.47666666666646\n",
            "sxx: 17.271400000000313\n",
            "syy: 6217.6111111111095\n"
          ]
        }
      ]
    },
    {
      "cell_type": "markdown",
      "source": [
        "Equação da reta:"
      ],
      "metadata": {
        "id": "euZx_q0IFcDu"
      }
    },
    {
      "cell_type": "code",
      "source": [
        "b1 = sxy / sxx\n",
        "b0 = media_y - b1 * media_x\n",
        "\n",
        "print(f'Y = {b0} + {b1}x')"
      ],
      "metadata": {
        "colab": {
          "base_uri": "https://localhost:8080/"
        },
        "id": "snbzJ5FM40dW",
        "outputId": "eddbece5-a334-46fd-fcc6-393d7d18ebed"
      },
      "execution_count": null,
      "outputs": [
        {
          "output_type": "stream",
          "name": "stdout",
          "text": [
            "Y = 190.26771432850165 + -18.034245438508798x\n"
          ]
        }
      ]
    },
    {
      "cell_type": "markdown",
      "source": [
        "Aplicando em determinado x:"
      ],
      "metadata": {
        "id": "OHM8wfdjIbYx"
      }
    },
    {
      "cell_type": "code",
      "source": [
        "reg_aplicada = b0 + b1 * x\n",
        "print(f\"Resultado para x = {x}: {reg_aplicada}\")"
      ],
      "metadata": {
        "colab": {
          "base_uri": "https://localhost:8080/"
        },
        "id": "QAq43pumIeZA",
        "outputId": "d7d74fc0-750e-4c92-f82f-af9897308bbe"
      },
      "execution_count": null,
      "outputs": [
        {
          "output_type": "stream",
          "name": "stdout",
          "text": [
            "Resultado para x = 9: 27.95950538192247\n"
          ]
        }
      ]
    },
    {
      "cell_type": "markdown",
      "source": [
        "Calcular variancia e desvio padrão estimado"
      ],
      "metadata": {
        "id": "6OJJ7iA7GKpR"
      }
    },
    {
      "cell_type": "code",
      "source": [
        "#Calcular SQE, SQT e SQR\n",
        "sqe = syy - b1 * sxy\n",
        "sqt = syy\n",
        "sqr = sqt - sqe\n",
        "\n",
        "#Calcular variancia e desvio padrão estimados\n",
        "s2 = sqe / (n-2)\n",
        "s = pow(s2, 1/2)\n",
        "\n",
        "#Calcular variancia no x\n",
        "sy = s  *pow(((1 / n) + (x - media_x) * (x - media_x) / sxx), 1/2)\n",
        "\n",
        "print(f'Desvio padrão estimado da reta: {s}')\n",
        "print(f'Variancia estimada na reta: {s2}')\n",
        "print(f'Variancia estimada em x = {x}: {sy}')"
      ],
      "metadata": {
        "colab": {
          "base_uri": "https://localhost:8080/"
        },
        "id": "4lYbYb5nAn3r",
        "outputId": "c31b11f0-5787-48c5-c598-2384e33ffa54"
      },
      "execution_count": null,
      "outputs": [
        {
          "output_type": "stream",
          "name": "stdout",
          "text": [
            "Desvio padrão estimado da reta: 6.12558393173589\n",
            "Variancia estimada na reta: 37.52277850474093\n",
            "Variancia estimada em x = 9: 1.6323665879699925\n"
          ]
        }
      ]
    },
    {
      "cell_type": "markdown",
      "source": [
        "t crítico"
      ],
      "metadata": {
        "id": "fzMVO0GQI_b4"
      }
    },
    {
      "cell_type": "code",
      "source": [
        "from scipy.stats import t\n",
        "alpha = 0.05  # nível de significia = 5% \n",
        "df = n - 2 # graus de liberdade (Número de amostras menos dois)                                     \n",
        "#\n",
        "v = t.ppf(1 - alpha/2, df) \n",
        "ta2=v"
      ],
      "metadata": {
        "id": "bfbl6v1sJCtH"
      },
      "execution_count": null,
      "outputs": []
    },
    {
      "cell_type": "code",
      "source": [
        "intervalo_previsao = ([reg_aplicada-ta2*pow((s2+sy*sy),1/2),reg_aplicada+ta2*pow((s2+sy*sy),1/2)])\n",
        "print(intervalo_previsao)"
      ],
      "metadata": {
        "colab": {
          "base_uri": "https://localhost:8080/"
        },
        "id": "63v_QIqYHe3h",
        "outputId": "6617041f-113d-4572-e311-b89291a0a591"
      },
      "execution_count": null,
      "outputs": [
        {
          "output_type": "stream",
          "name": "stdout",
          "text": [
            "[14.520676908189614, 41.39833385565532]\n"
          ]
        }
      ]
    },
    {
      "cell_type": "markdown",
      "source": [
        "# Atividade 2"
      ],
      "metadata": {
        "id": "HIDh4pXrKjO8"
      }
    },
    {
      "cell_type": "markdown",
      "source": [
        "Foi analisado um conjunto de dezoito dados x e y, que forneceram os seguintes resultados:"
      ],
      "metadata": {
        "id": "0CR2Ho0TLIiy"
      }
    },
    {
      "cell_type": "code",
      "source": [
        "somatorio_xi = 152.70\n",
        "somatorio_yi = 671.00\n",
        "somatorio_xiyi = 5380.84\n",
        "somatorio_xi2 = 1312.6764\n",
        "somatorio_yi2 = 31231.00\n",
        "media_x = 8.4833\n",
        "media_y = 37.2778\n",
        "n = 18"
      ],
      "metadata": {
        "id": "Gz_TGVo_LHHg"
      },
      "execution_count": 19,
      "outputs": []
    },
    {
      "cell_type": "markdown",
      "source": [
        "Calcule os intervalos de confiança do valor esperado de três amostras com um nível de confiança de, pelo menos, 97%. As amostras adotam os seguintes valores x1=7, x2=8 e x3=9:\n",
        "\n",
        "![screenshot.png](data:image/png;base64,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)"
      ],
      "metadata": {
        "id": "nykIr3lLLPrp"
      }
    },
    {
      "cell_type": "markdown",
      "source": [
        "## Resolução"
      ],
      "metadata": {
        "id": "rKfHLT83LvSA"
      }
    },
    {
      "cell_type": "code",
      "source": [
        "x1 = 7\n",
        "x2 = 8\n",
        "x3 = 9"
      ],
      "metadata": {
        "id": "hKsDmSK3ObMy"
      },
      "execution_count": 23,
      "outputs": []
    },
    {
      "cell_type": "markdown",
      "source": [
        "Considerando que o nível de confiança é 100(1 - k * alpha)%, onde k é o número de observações simultâneas.\n",
        "\n",
        "$100(1-k\\alpha) \\% \\approx 97 \\%$ \n",
        "\n",
        "$(1-k\\alpha) = 0,97 $ \n",
        "\n",
        "$1-3\\alpha = 0,97 $ \n",
        "\n",
        "$\\alpha = \\frac{0.03}{3} = 0,01$"
      ],
      "metadata": {
        "id": "zIvgXJl2MIb-"
      }
    },
    {
      "cell_type": "code",
      "source": [
        "alpha = 0.01"
      ],
      "metadata": {
        "id": "DUfy3VZmLPMF"
      },
      "execution_count": 21,
      "outputs": []
    },
    {
      "cell_type": "markdown",
      "source": [
        "Cada observação deve ter alpha = 0.01, ou seja, 99% de confiança."
      ],
      "metadata": {
        "id": "5nbXfHOLNIhK"
      }
    },
    {
      "cell_type": "code",
      "source": [
        "from scipy.stats import t\n",
        "df = n - 2 # graus de liberdade (Número de amostras menos dois)                                     \n",
        "#\n",
        "v = t.ppf(1 - alpha/2, df) \n",
        "ta2=v\n",
        "\n",
        "ta2"
      ],
      "metadata": {
        "colab": {
          "base_uri": "https://localhost:8080/"
        },
        "id": "2owq710PNBxc",
        "outputId": "cf4b024a-6e92-4457-a39a-88f327e090d7"
      },
      "execution_count": 26,
      "outputs": [
        {
          "output_type": "execute_result",
          "data": {
            "text/plain": [
              "2.9207816223499967"
            ]
          },
          "metadata": {},
          "execution_count": 26
        }
      ]
    },
    {
      "cell_type": "code",
      "source": [
        "#Calcular variancia no x\n",
        "sy_x1 = s  *pow(((1 / n) + (x1 - media_x) * (x1 - media_x) / sxx), 1/2)\n",
        "sy_x2 = s  *pow(((1 / n) + (x2 - media_x) * (x2 - media_x) / sxx), 1/2)\n",
        "sy_x3 = s  *pow(((1 / n) + (x3 - media_x) * (x3 - media_x) / sxx), 1/2)\n",
        "\n",
        "sy_x1, sy_x2, sy_x3"
      ],
      "metadata": {
        "colab": {
          "base_uri": "https://localhost:8080/"
        },
        "id": "tHf9FtUsOPiG",
        "outputId": "d17cc5bc-1c80-41c2-e20b-4cb9a488c14f"
      },
      "execution_count": 32,
      "outputs": [
        {
          "output_type": "execute_result",
          "data": {
            "text/plain": [
              "(2.620032781508452, 1.609986924578677, 1.6323665879699925)"
            ]
          },
          "metadata": {},
          "execution_count": 32
        }
      ]
    },
    {
      "cell_type": "markdown",
      "source": [
        "Aplicando a regressão (atividade anterior):"
      ],
      "metadata": {
        "id": "JDzebIiJPKbZ"
      }
    },
    {
      "cell_type": "code",
      "source": [
        "reg_aplicada_x1 = b0 + b1 * x1\n",
        "reg_aplicada_x2 = b0 + b1 * x2\n",
        "reg_aplicada_x3 = b0 + b1 * x3"
      ],
      "metadata": {
        "id": "LoYP80fIOvHN"
      },
      "execution_count": 33,
      "outputs": []
    },
    {
      "cell_type": "markdown",
      "source": [
        "Intervalos:"
      ],
      "metadata": {
        "id": "2bBl-ymYPjzh"
      }
    },
    {
      "cell_type": "code",
      "source": [
        "#IC do valor esperado para várias observações x=7 8 e 9 \n",
        "intervalo_previsao_x1 = ([reg_aplicada_x1 - ta2*pow((s2 +sy_x1 * sy_x1),1/2),reg_aplicada_x1 + ta2*pow((s2 + sy_x1 * sy_x1),1/2)])\n",
        "intervalo_previsao_x2 = ([reg_aplicada_x2 - ta2*pow((s2 +sy_x2 * sy_x2),1/2),reg_aplicada_x2 + ta2*pow((s2 + sy_x2 * sy_x2),1/2)])\n",
        "intervalo_previsao_x3 = ([reg_aplicada_x3 - ta2*pow((s2 +sy_x3 * sy_x3),1/2),reg_aplicada_x3 + ta2*pow((s2 + sy_x3 * sy_x3),1/2)])\n",
        "\n",
        "print(f'O intervalo de confiança para y, x=7= {intervalo_previsao_x1}')\n",
        "print(f'O intervalo de confiança para y, x=8= {intervalo_previsao_x2}')\n",
        "print(f'O intervalo de confiança para y, x=9= {intervalo_previsao_x3}')"
      ],
      "metadata": {
        "colab": {
          "base_uri": "https://localhost:8080/"
        },
        "id": "at6cuL2APZRa",
        "outputId": "5588e785-3e70-48ca-e886-0d4fcb1f8b93"
      },
      "execution_count": 35,
      "outputs": [
        {
          "output_type": "stream",
          "name": "stdout",
          "text": [
            "O intervalo de confiança para y, x=7= [44.56862976462767, 83.48736275325248]\n",
            "O intervalo de confiança para y, x=8= [27.494608224685404, 64.49289341617714]\n",
            "O intervalo de confiança para y, x=9= [9.443639014487836, 46.4753717493571]\n"
          ]
        }
      ]
    },
    {
      "cell_type": "code",
      "source": [
        "print(f'sqe: {sqe}')"
      ],
      "metadata": {
        "colab": {
          "base_uri": "https://localhost:8080/"
        },
        "id": "UMwvrMDBQIES",
        "outputId": "d7e37d89-f872-4a99-a08a-176dca801a5d"
      },
      "execution_count": 36,
      "outputs": [
        {
          "output_type": "stream",
          "name": "stdout",
          "text": [
            "sqe: 600.3644560758548\n"
          ]
        }
      ]
    },
    {
      "cell_type": "code",
      "source": [
        "print('Y esperado para x = 7: ', b0 + b1 * 7)"
      ],
      "metadata": {
        "colab": {
          "base_uri": "https://localhost:8080/"
        },
        "id": "NbrgWK1zRgW8",
        "outputId": "9f2ba4d8-bb52-48c3-b8bf-eb3998dbc721"
      },
      "execution_count": 39,
      "outputs": [
        {
          "output_type": "stream",
          "name": "stdout",
          "text": [
            "Y esperado para x = 7:  64.02799625894008\n"
          ]
        }
      ]
    },
    {
      "cell_type": "code",
      "source": [
        "print(f'variancia para x = 9: {sy_x3}')"
      ],
      "metadata": {
        "colab": {
          "base_uri": "https://localhost:8080/"
        },
        "id": "dECd0BoQRpCw",
        "outputId": "39524031-e1f4-43b3-e9c2-a1140c9780f6"
      },
      "execution_count": 38,
      "outputs": [
        {
          "output_type": "stream",
          "name": "stdout",
          "text": [
            "variancia para x = 9: 1.6323665879699925\n"
          ]
        }
      ]
    },
    {
      "cell_type": "markdown",
      "source": [
        "# Atividade 5"
      ],
      "metadata": {
        "id": "26dymPc0VERD"
      }
    },
    {
      "cell_type": "markdown",
      "source": [
        "Um conjunto de dados em que:\n",
        "\n",
        "x= Largura da fissura da pálpebra (isto é, a largura horizontal da abertura do olho, em cm).\n",
        "y = Área da Superfície Ocular (ASO) em cm2.\n",
        "\n",
        "Foram verificados e apresentam uma relação linear.\n",
        "\n",
        "Calcule o t critico para um nível de confiança de 95%."
      ],
      "metadata": {
        "id": "leFiUWi_VGOR"
      }
    },
    {
      "cell_type": "code",
      "source": [
        "#Dados x\n",
        "x = [0.40, 0.42, 0.48, 0.51, 0.57, 0.60, 0.70, 0.75, 0.75, 0.78, 0.84, \n",
        "    0.95, 0.99, 1.03, 1.12, 1.15, 1.20, 1.25, 1.25, 1.28, 1.30, 1.34, 1.37, \n",
        "    1.40, 1.43, 1.46, 1.49, 1.55, 1.58, 1.60]\n",
        "#Dados y\n",
        "y= [1.02, 1.21, 0.88, 0.98, 1.52, 1.83, 1.50, 1.80, 1.74, 1.63, 2.00, \n",
        "    2.80, 2.48, 2.47, 3.05, 3.18, 3.76, 3.68, 3.82, 3.21, 4.27, 3.12, 3.99,\n",
        "    3.75, 4.10, 4.18, 3.77, 4.34, 4.21, 4.92] "
      ],
      "metadata": {
        "id": "LSz7a1j9VDMM"
      },
      "execution_count": 41,
      "outputs": []
    },
    {
      "cell_type": "code",
      "source": [
        "import pandas as pd\n",
        "import seaborn as sns\n",
        "import statsmodels.api as sm\n",
        "x = sm.add_constant(x)\n",
        "modelo = sm.OLS(y, x).fit() #\n",
        "print(modelo.summary())"
      ],
      "metadata": {
        "colab": {
          "base_uri": "https://localhost:8080/"
        },
        "id": "WlnKEVOdVUWX",
        "outputId": "324dcf6e-7fe2-4e8b-85a8-4cd199c8d3b7"
      },
      "execution_count": 43,
      "outputs": [
        {
          "output_type": "stream",
          "name": "stderr",
          "text": [
            "/usr/local/lib/python3.7/dist-packages/statsmodels/tools/_testing.py:19: FutureWarning: pandas.util.testing is deprecated. Use the functions in the public API at pandas.testing instead.\n",
            "  import pandas.util.testing as tm\n"
          ]
        },
        {
          "output_type": "stream",
          "name": "stdout",
          "text": [
            "                            OLS Regression Results                            \n",
            "==============================================================================\n",
            "Dep. Variable:                      y   R-squared:                       0.937\n",
            "Model:                            OLS   Adj. R-squared:                  0.935\n",
            "Method:                 Least Squares   F-statistic:                     418.3\n",
            "Date:                Thu, 07 Apr 2022   Prob (F-statistic):           2.25e-18\n",
            "Time:                        18:41:52   Log-Likelihood:                -6.2045\n",
            "No. Observations:                  30   AIC:                             16.41\n",
            "Df Residuals:                      28   BIC:                             19.21\n",
            "Df Model:                           1                                         \n",
            "Covariance Type:            nonrobust                                         \n",
            "==============================================================================\n",
            "                 coef    std err          t      P>|t|      [0.025      0.975]\n",
            "------------------------------------------------------------------------------\n",
            "const         -0.3977      0.168     -2.367      0.025      -0.742      -0.054\n",
            "x1             3.0800      0.151     20.453      0.000       2.772       3.388\n",
            "==============================================================================\n",
            "Omnibus:                        0.653   Durbin-Watson:                   2.448\n",
            "Prob(Omnibus):                  0.721   Jarque-Bera (JB):                0.719\n",
            "Skew:                           0.180   Prob(JB):                        0.698\n",
            "Kurtosis:                       2.333   Cond. No.                         5.84\n",
            "==============================================================================\n",
            "\n",
            "Warnings:\n",
            "[1] Standard Errors assume that the covariance matrix of the errors is correctly specified.\n"
          ]
        }
      ]
    },
    {
      "cell_type": "markdown",
      "source": [
        "Calculando o t critico para nível de 95% de confiança:"
      ],
      "metadata": {
        "id": "pc-Eol5nWyBk"
      }
    },
    {
      "cell_type": "code",
      "source": [
        "from scipy.stats import t\n",
        "alpha = 0.05\n",
        "df = len(x) - 2 # graus de liberdade (Número de amostras menos dois)                                     \n",
        "#\n",
        "v = t.ppf(1 - alpha/2, df) \n",
        "ta2=v\n",
        "\n",
        "ta2"
      ],
      "metadata": {
        "colab": {
          "base_uri": "https://localhost:8080/"
        },
        "id": "t-CSPE4hVb66",
        "outputId": "11b0cd36-fa54-46ce-89c1-805e39fdb42c"
      },
      "execution_count": 45,
      "outputs": [
        {
          "output_type": "execute_result",
          "data": {
            "text/plain": [
              "2.048407141795244"
            ]
          },
          "metadata": {},
          "execution_count": 45
        }
      ]
    },
    {
      "cell_type": "code",
      "source": [
        "print(f't de teste (20.453) é maior que o t crítico ({ta2}). \\n Rejeito a hipótese nula de que B0 é igual a 0.')"
      ],
      "metadata": {
        "colab": {
          "base_uri": "https://localhost:8080/"
        },
        "id": "1JEY4JeVXGtM",
        "outputId": "dd655bfb-123a-419d-c10d-fb3fe9f91c5f"
      },
      "execution_count": 48,
      "outputs": [
        {
          "output_type": "stream",
          "name": "stdout",
          "text": [
            "t de teste (20.453) é maior que o t crítico (2.048407141795244). \n",
            " Rejeito a hipótese nula de que B0 é igual a 0.\n"
          ]
        }
      ]
    },
    {
      "cell_type": "markdown",
      "source": [
        "# Atividade 6"
      ],
      "metadata": {
        "id": "MSJO0nkJYyZe"
      }
    },
    {
      "cell_type": "markdown",
      "source": [
        "Considere o seguinte conjunto de dados, em que x = pH e y = arsênio removido (%) por um determinado processo."
      ],
      "metadata": {
        "id": "uIwNB6WpY2Wh"
      }
    },
    {
      "cell_type": "code",
      "source": [
        "xa = [7.01, 7.11, 7.12, 7.24, 7.94, 7.94, 8.04, 8.05, 8.07, 8.90, 8.94, 8.95, 8.97, 8.98, 9.85, 9.86, 9.86, 9.87]\n",
        "ya= [60, 67 , 66, 52, 50, 45, 52, 48, 40, 23, 20, 40, 31, 26, 9, 22, 13, 7]"
      ],
      "metadata": {
        "id": "n9VffPHTYHj1"
      },
      "execution_count": 54,
      "outputs": []
    },
    {
      "cell_type": "markdown",
      "source": [
        "Estime os parâmetros da reta de regressão usando o software computacional e considerando que sy = 1,61, calcule o intervalo de confiança da porcentagem de arsênico removido quando o pH vale 8,0. Utilize um nível de confiança de 99 %."
      ],
      "metadata": {
        "id": "yNbUEk6WZHtk"
      }
    },
    {
      "cell_type": "code",
      "source": [
        "xa = sm.add_constant(xa)\n",
        "modelo1 = sm.OLS(ya, xa).fit()\n",
        "print(modelo.summary())"
      ],
      "metadata": {
        "colab": {
          "base_uri": "https://localhost:8080/"
        },
        "id": "6WHFh9ieY59i",
        "outputId": "688ccf55-dd86-4e41-9360-02c901d17ac1"
      },
      "execution_count": 55,
      "outputs": [
        {
          "output_type": "stream",
          "name": "stdout",
          "text": [
            "                            OLS Regression Results                            \n",
            "==============================================================================\n",
            "Dep. Variable:                      y   R-squared:                       0.903\n",
            "Model:                            OLS   Adj. R-squared:                  0.897\n",
            "Method:                 Least Squares   F-statistic:                     149.7\n",
            "Date:                Thu, 07 Apr 2022   Prob (F-statistic):           1.55e-09\n",
            "Time:                        19:09:46   Log-Likelihood:                -57.105\n",
            "No. Observations:                  18   AIC:                             118.2\n",
            "Df Residuals:                      16   BIC:                             120.0\n",
            "Df Model:                           1                                         \n",
            "Covariance Type:            nonrobust                                         \n",
            "==============================================================================\n",
            "                 coef    std err          t      P>|t|      [0.025      0.975]\n",
            "------------------------------------------------------------------------------\n",
            "const        190.2683     12.587     15.116      0.000     163.585     216.952\n",
            "x1           -18.0342      1.474    -12.235      0.000     -21.159     -14.910\n",
            "==============================================================================\n",
            "Omnibus:                        1.191   Durbin-Watson:                   2.184\n",
            "Prob(Omnibus):                  0.551   Jarque-Bera (JB):                0.908\n",
            "Skew:                           0.268   Prob(JB):                        0.635\n",
            "Kurtosis:                       2.040   Cond. No.                         75.5\n",
            "==============================================================================\n",
            "\n",
            "Warnings:\n",
            "[1] Standard Errors assume that the covariance matrix of the errors is correctly specified.\n"
          ]
        },
        {
          "output_type": "stream",
          "name": "stderr",
          "text": [
            "/usr/local/lib/python3.7/dist-packages/scipy/stats/stats.py:1535: UserWarning: kurtosistest only valid for n>=20 ... continuing anyway, n=18\n",
            "  \"anyway, n=%i\" % int(n))\n"
          ]
        }
      ]
    },
    {
      "cell_type": "code",
      "source": [
        "b0 = modelo1.params[0]\n",
        "b1 = modelo1.params[1]\n",
        "\n",
        "Y = b0 + b1 * 8.0\n",
        "Y"
      ],
      "metadata": {
        "colab": {
          "base_uri": "https://localhost:8080/"
        },
        "id": "fSPnjVOwZWhJ",
        "outputId": "e653731e-17ba-40f8-ef54-e2ff1c8ebf2e"
      },
      "execution_count": 59,
      "outputs": [
        {
          "output_type": "execute_result",
          "data": {
            "text/plain": [
              "45.99432973972384"
            ]
          },
          "metadata": {},
          "execution_count": 59
        }
      ]
    }
  ]
}