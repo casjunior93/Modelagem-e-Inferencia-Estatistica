{
 "cells": [
  {
   "cell_type": "markdown",
   "metadata": {},
   "source": [
    "Observe os seguintes dados de Área de Superfície Ocular (ASO) e largura da pálpebra.  \n",
    "\n",
    "Em que: \n",
    "\n",
    "ASO = [1.02, 1.21, 0.88, 0.98, 1.52, 1.83, 1.50, 1.80, 1.74, 1.63, 2.00, 2.80, 2.48, 2.47, 3.05, 3.18, 3.76, 3.68, 3.82, 3.21, 4.27, 3.12, 3.99, 3.75, 4.10, 4.18, 3.77, 4.34, 4.21, 4.92]  \n",
    "\n",
    "E largura da pálpebra = [0.40, 0.42, 0.48, 0.51, 0.57, 0.60, 0.70, 0.75, 0.75, 0.78, 0.84, 0.95, 0.99, 1.03, 1.12, 1.15, 1.20, 1.25, 1.25, 1.28, 1.30, 1.34, 1.37, 1.40, 1.43, 1.46, 1.49, 1.55, 1.58, 1.60] \n",
    "\n",
    " \n",
    "\n",
    "Realize um diagrama de dispersão de Área de Superfície Ocular (ASO) em função da largura da pálpebra."
   ]
  },
  {
   "cell_type": "code",
   "execution_count": 2,
   "metadata": {},
   "outputs": [],
   "source": [
    "import seaborn as sns\n",
    "import pandas as pd"
   ]
  },
  {
   "cell_type": "code",
   "execution_count": 3,
   "metadata": {},
   "outputs": [],
   "source": [
    "aso = [1.02, 1.21, 0.88, 0.98, 1.52, 1.83, 1.50, 1.80, 1.74, 1.63, 2.00, 2.80, 2.48, 2.47, 3.05, 3.18, 3.76, 3.68, 3.82, 3.21, 4.27, 3.12, 3.99, 3.75, 4.10, 4.18, 3.77, 4.34, 4.21, 4.92]\n",
    "largura_palpebra = [0.40, 0.42, 0.48, 0.51, 0.57, 0.60, 0.70, 0.75, 0.75, 0.78, 0.84, 0.95, 0.99, 1.03, 1.12, 1.15, 1.20, 1.25, 1.25, 1.28, 1.30, 1.34, 1.37, 1.40, 1.43, 1.46, 1.49, 1.55, 1.58, 1.60] "
   ]
  },
  {
   "cell_type": "code",
   "execution_count": 4,
   "metadata": {},
   "outputs": [
    {
     "name": "stdout",
     "output_type": "stream",
     "text": [
      "     aso  largura_palpebra\n",
      "0   1.02              0.40\n",
      "1   1.21              0.42\n",
      "2   0.88              0.48\n",
      "3   0.98              0.51\n",
      "4   1.52              0.57\n",
      "5   1.83              0.60\n",
      "6   1.50              0.70\n",
      "7   1.80              0.75\n",
      "8   1.74              0.75\n",
      "9   1.63              0.78\n",
      "10  2.00              0.84\n",
      "11  2.80              0.95\n",
      "12  2.48              0.99\n",
      "13  2.47              1.03\n",
      "14  3.05              1.12\n",
      "15  3.18              1.15\n",
      "16  3.76              1.20\n",
      "17  3.68              1.25\n",
      "18  3.82              1.25\n",
      "19  3.21              1.28\n",
      "20  4.27              1.30\n",
      "21  3.12              1.34\n",
      "22  3.99              1.37\n",
      "23  3.75              1.40\n",
      "24  4.10              1.43\n",
      "25  4.18              1.46\n",
      "26  3.77              1.49\n",
      "27  4.34              1.55\n",
      "28  4.21              1.58\n",
      "29  4.92              1.60\n"
     ]
    }
   ],
   "source": [
    "lista_de_tuplas = list(zip(aso, largura_palpebra))  \n",
    "\n",
    "# Convertendo listas de tuplas em Dataframe do pandas.\n",
    "df = pd.DataFrame(\n",
    "    lista_de_tuplas,\n",
    "    columns=['aso', 'largura_palpebra']\n",
    ")\n",
    "\n",
    "print(df)"
   ]
  },
  {
   "cell_type": "code",
   "execution_count": 6,
   "metadata": {},
   "outputs": [
    {
     "data": {
      "image/png": "[encoded data removed]",
      "text/plain": [
       "<Figure size 432x432 with 3 Axes>"
      ]
     },
     "metadata": {
      "needs_background": "light"
     },
     "output_type": "display_data"
    }
   ],
   "source": [
    "sns.jointplot(data=df, x=\"largura_palpebra\", y=\"aso\");"
   ]
  },
  {
   "cell_type": "code",
   "execution_count": 7,
   "metadata": {},
   "outputs": [
    {
     "data": {
      "text/html": [
       "<div>\n",
       "<style scoped>\n",
       "    .dataframe tbody tr th:only-of-type {\n",
       "        vertical-align: middle;\n",
       "    }\n",
       "\n",
       "    .dataframe tbody tr th {\n",
       "        vertical-align: top;\n",
       "    }\n",
       "\n",
       "    .dataframe thead th {\n",
       "        text-align: right;\n",
       "    }\n",
       "</style>\n",
       "<table border=\"1\" class=\"dataframe\">\n",
       "  <thead>\n",
       "    <tr style=\"text-align: right;\">\n",
       "      <th></th>\n",
       "      <th>aso</th>\n",
       "      <th>largura_palpebra</th>\n",
       "    </tr>\n",
       "  </thead>\n",
       "  <tbody>\n",
       "    <tr>\n",
       "      <th>aso</th>\n",
       "      <td>1.000000</td>\n",
       "      <td>0.968124</td>\n",
       "    </tr>\n",
       "    <tr>\n",
       "      <th>largura_palpebra</th>\n",
       "      <td>0.968124</td>\n",
       "      <td>1.000000</td>\n",
       "    </tr>\n",
       "  </tbody>\n",
       "</table>\n",
       "</div>"
      ],
      "text/plain": [
       "                       aso  largura_palpebra\n",
       "aso               1.000000          0.968124\n",
       "largura_palpebra  0.968124          1.000000"
      ]
     },
     "execution_count": 7,
     "metadata": {},
     "output_type": "execute_result"
    }
   ],
   "source": [
    "df.corr()"
   ]
  },
  {
   "cell_type": "markdown",
   "metadata": {},
   "source": [
    "Os dados tem uma correlação positiva muito forte."
   ]
  },
  {
   "cell_type": "markdown",
   "metadata": {},
   "source": []
  }
 ],
 "metadata": {
  "interpreter": {
   "hash": "5f23c331dcc0e959a18d97d72b32723b8e8fefc4a029dc171226f15b89161c30"
  },
  "kernelspec": {
   "display_name": "Python 3.9.7 ('base')",
   "language": "python",
   "name": "python3"
  },
  "language_info": {
   "codemirror_mode": {
    "name": "ipython",
    "version": 3
   },
   "file_extension": ".py",
   "mimetype": "text/x-python",
   "name": "python",
   "nbconvert_exporter": "python",
   "pygments_lexer": "ipython3",
   "version": "3.9.7"
  },
  "orig_nbformat": 4
 },
 "nbformat": 4,
 "nbformat_minor": 2
}
